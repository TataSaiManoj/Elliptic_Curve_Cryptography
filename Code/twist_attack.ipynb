{
 "cells": [
  {
   "cell_type": "code",
   "execution_count": 1,
   "id": "8d98a861",
   "metadata": {},
   "outputs": [
    {
     "name": "stdout",
     "output_type": "stream",
     "text": [
      "115792089237316195423570985008687907853269984665640564039457584007908834671663\n",
      "CPU times: user 72.7 ms, sys: 0 ns, total: 72.7 ms\n",
      "Wall time: 72.1 ms\n"
     ]
    }
   ],
   "source": [
    "%%time\n",
    "\n",
    "import time \n",
    "import timeit \n",
    "\n",
    "start_time = time.time()\n",
    "\n",
    "# the prime for the secp256k1 is 2^256 - 2^32 - 977 \n",
    "p = 115792089237316195423570985008687907853269984665640564039457584007908834671663\n",
    "\n",
    "# Bob's private key that we plan to find out using the attack \n",
    "b1 = 0xc3549423\n",
    "b2 = 0xF837BC8C4461CCD7\n",
    "b3 = 0x6a9d9fd679c147a78cbc6857dec02e76\n",
    "b = b3\n",
    "\n",
    "# the secp256k1 curve over the finite field Z_p\n",
    "curve = EllipticCurve(GF(p), [0, 7])\n",
    "\n",
    "print(p)"
   ]
  },
  {
   "cell_type": "code",
   "execution_count": 2,
   "id": "900fdd5f",
   "metadata": {},
   "outputs": [
    {
     "name": "stdout",
     "output_type": "stream",
     "text": [
      "CPU times: user 2 µs, sys: 0 ns, total: 2 µs\n",
      "Wall time: 3.58 µs\n"
     ]
    }
   ],
   "source": [
    "%%time\n",
    "# function for generator and order \n",
    "def gen_order(curve):\n",
    "\n",
    "    grp = curve.abelian_group()\n",
    "    gen = grp.gens()[0]\n",
    "\n",
    "    group_order = gen.order()\n",
    "    # print(\"{0} = {1}\".format(group_order, factor(group_order)))\n",
    "\n",
    "    return (gen, group_order)"
   ]
  },
  {
   "cell_type": "code",
   "execution_count": 3,
   "id": "774cb1ca",
   "metadata": {},
   "outputs": [
    {
     "name": "stdout",
     "output_type": "stream",
     "text": [
      "CPU times: user 2 µs, sys: 0 ns, total: 2 µs\n",
      "Wall time: 3.58 µs\n"
     ]
    }
   ],
   "source": [
    "%%time\n",
    "\n",
    "# function for generator for the \"small\" subgroup \n",
    "def gen_subgroup(P, group_order, subgroup_order): \n",
    "    \n",
    "    temp = group_order // subgroup_order \n",
    "    x = crt([1,0], [subgroup_order, temp])\n",
    "    \n",
    "    return (x*P)"
   ]
  },
  {
   "cell_type": "code",
   "execution_count": 4,
   "id": "dd13d193",
   "metadata": {},
   "outputs": [
    {
     "name": "stdout",
     "output_type": "stream",
     "text": [
      "CPU times: user 2 µs, sys: 0 ns, total: 2 µs\n",
      "Wall time: 3.81 µs\n"
     ]
    }
   ],
   "source": [
    "%%time\n",
    "\n",
    "# simple encryption \n",
    "def encrypt(symmkey, message):\n",
    "    return symmkey\n",
    "\n",
    "def key_does_decrypt(symmkey, cipherText):\n",
    "    return (symmkey == cipherText)"
   ]
  },
  {
   "cell_type": "code",
   "execution_count": 5,
   "id": "f99b7f20",
   "metadata": {},
   "outputs": [
    {
     "name": "stdout",
     "output_type": "stream",
     "text": [
      "CPU times: user 47.8 s, sys: 235 ms, total: 48 s\n",
      "Wall time: 47.9 s\n"
     ]
    }
   ],
   "source": [
    "%%time\n",
    "\n",
    "twist_1 = EllipticCurve(GF(p), [0, 1])\n",
    "twist_2 = EllipticCurve(GF(p), [0, 2])\n",
    "twist_3 = EllipticCurve(GF(p), [0, 3])\n",
    "twist_4 = EllipticCurve(GF(p), [0, 4])\n",
    "twist_6 = EllipticCurve(GF(p), [0, 6])\n",
    "\n",
    "# small subgroup for twist_1 is of order 20412485227\n",
    "(gen, order) = gen_order(twist_1)\n",
    "s1 = [20412485227]\n",
    "P11 = gen_subgroup(gen, order, s1[0])\n",
    "\n",
    "# small subgroups for twist_2 are of order 3319, 22639\n",
    "(gen, order) = gen_order(twist_2)\n",
    "s2 = [3319, 22639]\n",
    "P21 = gen_subgroup(gen, order, s2[0])\n",
    "P22 = gen_subgroup(gen, order, s2[1])\n",
    "\n",
    "# small subgroups for twist_3 are of order 109903, 12977017, 383229727\n",
    "(gen, order) = gen_order(twist_3)\n",
    "s3 = [109903, 12977017, 383229727] \n",
    "P31 = gen_subgroup(gen, order, s3[0])\n",
    "P32 = gen_subgroup(gen, order, s3[1])\n",
    "P33 = gen_subgroup(gen, order, s3[2])\n",
    "\n",
    "# small subgroup for twist_4 is of order 18979\n",
    "(gen, order) = gen_order(twist_4)\n",
    "s4 = [18979]\n",
    "P41 = gen_subgroup(gen, order, s4[0])\n",
    "\n",
    "# small subgroup for twist_6 are of order 10903, 5290657, 10833080827, 22921299619447\n",
    "(gen, order) = gen_order(twist_6)\n",
    "s6 = [10903, 5290657, 10833080827, 22921299619447]\n",
    "P61 = gen_subgroup(gen, order, s6[0])\n",
    "P62 = gen_subgroup(gen, order, s6[1])\n",
    "P63 = gen_subgroup(gen, order, s6[2])\n",
    "P64 = gen_subgroup(gen, order, s6[3])\n",
    "\n",
    "# assert product of subgroup orders > 2^256"
   ]
  },
  {
   "cell_type": "code",
   "execution_count": 6,
   "id": "ada26166",
   "metadata": {},
   "outputs": [
    {
     "name": "stdout",
     "output_type": "stream",
     "text": [
      "Bob's private key is :  141716600055626156383984504933026115190\n",
      "925.3762125968933\n",
      "CPU times: user 14min 36s, sys: 400 ms, total: 14min 37s\n",
      "Wall time: 14min 37s\n"
     ]
    }
   ],
   "source": [
    "%%time\n",
    "\n",
    "# Replies received from Bob (with a naive implementation on Bob's side)\n",
    "Q11 = b * P11\n",
    "Q21 = b * P21\n",
    "Q22 = b * P22\n",
    "Q31 = b * P31\n",
    "Q32 = b * P32\n",
    "Q33 = b * P33\n",
    "Q41 = b * P41\n",
    "Q61 = b * P61\n",
    "Q62 = b * P62\n",
    "Q63 = b * P63\n",
    "Q64 = b * P64\n",
    "\n",
    "# computing \n",
    "x11 = discrete_log_rho(Q11, P11, ord=s1[0], operation='+')\n",
    "\n",
    "x21 = discrete_log_rho(Q21, P21, ord=s2[0], operation='+')\n",
    "x22 = discrete_log_rho(Q22, P22, ord=s2[1], operation='+')\n",
    "\n",
    "x31 = discrete_log_rho(Q31, P31, ord=s3[0], operation='+')\n",
    "x32 = discrete_log_rho(Q32, P32, ord=s3[1], operation='+')\n",
    "x33 = discrete_log_rho(Q33, P33, ord=s3[2], operation='+')\n",
    "\n",
    "x41 = discrete_log_rho(Q41, P41, ord=s4[0], operation='+')\n",
    "\n",
    "x61 = discrete_log_rho(Q61, P61, ord=s6[0], operation='+')\n",
    "x62 = discrete_log_rho(Q62, P62, ord=s6[1], operation='+')\n",
    "x63 = discrete_log_rho(Q63, P63, ord=s6[2], operation='+')\n",
    "x64 = discrete_log_rho(Q64, P64, ord=s6[3], operation='+')\n",
    "\n",
    "x = crt([x11, x21, x22, x31, x32, x33, x41, x61, x62, x63, x64], [s1[0], s2[0], s2[1], s3[0], s3[1], s3[2], s4[0], s6[0], s6[1], s6[2], s6[3]])\n",
    "\n",
    "print(\"Bob's private key is : \", x)\n",
    "end_time = time.time()\n",
    "\n",
    "print(end_time - start_time)"
   ]
  }
 ],
 "metadata": {
  "kernelspec": {
   "display_name": "SageMath 9.0",
   "language": "sage",
   "name": "sagemath"
  },
  "language_info": {
   "codemirror_mode": {
    "name": "ipython",
    "version": 3
   },
   "file_extension": ".py",
   "mimetype": "text/x-python",
   "name": "python",
   "nbconvert_exporter": "python",
   "pygments_lexer": "ipython3",
   "version": "3.8.10"
  }
 },
 "nbformat": 4,
 "nbformat_minor": 5
}
